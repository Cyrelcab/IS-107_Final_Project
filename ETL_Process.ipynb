{
 "cells": [
  {
   "cell_type": "code",
   "execution_count": null,
   "metadata": {},
   "outputs": [],
   "source": [
    "import pandas as pd"
   ]
  },
  {
   "cell_type": "code",
   "execution_count": null,
   "metadata": {},
   "outputs": [],
   "source": [
    "# Load the .xls file\n",
    "file_path = './Online Retail.xlsx'\n",
    "data = pd.read_excel(file_path)"
   ]
  },
  {
   "cell_type": "code",
   "execution_count": 18,
   "metadata": {},
   "outputs": [],
   "source": [
    "# 1. Remove rows with missing values\n",
    "data_cleaned = data.dropna()"
   ]
  },
  {
   "cell_type": "code",
   "execution_count": 19,
   "metadata": {},
   "outputs": [],
   "source": [
    "# 2. Remove duplicates\n",
    "data_cleaned = data_cleaned.drop_duplicates()"
   ]
  },
  {
   "cell_type": "code",
   "execution_count": 20,
   "metadata": {},
   "outputs": [
    {
     "name": "stdout",
     "output_type": "stream",
     "text": [
      "InvoiceNo              object\n",
      "StockCode              object\n",
      "Description            object\n",
      "Quantity                int64\n",
      "InvoiceDate    datetime64[ns]\n",
      "UnitPrice             float64\n",
      "CustomerID            float64\n",
      "Country                object\n",
      "dtype: object\n"
     ]
    }
   ],
   "source": [
    "# 3. Convert data types and handle inconsistencies\n",
    "# Assuming common retail dataset columns, adjust as needed\n",
    "data_cleaned['InvoiceDate'] = pd.to_datetime(data_cleaned['InvoiceDate'])\n",
    "data_cleaned['Quantity'] = pd.to_numeric(data_cleaned['Quantity'])\n",
    "data_cleaned['UnitPrice'] = pd.to_numeric(data_cleaned['UnitPrice'])\n",
    "\n",
    "print(data_cleaned.dtypes)"
   ]
  },
  {
   "cell_type": "code",
   "execution_count": 21,
   "metadata": {},
   "outputs": [],
   "source": [
    "# 4. Remove outliers using IQR method for Quantity and UnitPrice\n",
    "def remove_outliers(df, column):\n",
    "    Q1 = df[column].quantile(0.25)\n",
    "    Q3 = df[column].quantile(0.75)\n",
    "    IQR = Q3 - Q1\n",
    "    lower_bound = Q1 - 1.5 * IQR\n",
    "    upper_bound = Q3 + 1.5 * IQR\n",
    "    return df[(df[column] >= lower_bound) & (df[column] <= upper_bound)]\n",
    "\n",
    "data_cleaned = remove_outliers(data_cleaned, 'Quantity')\n",
    "data_cleaned = remove_outliers(data_cleaned, 'UnitPrice')"
   ]
  },
  {
   "cell_type": "code",
   "execution_count": 22,
   "metadata": {},
   "outputs": [
    {
     "name": "stdout",
     "output_type": "stream",
     "text": [
      "Original dataset shape: (541909, 8)\n",
      "Cleaned dataset shape: (339453, 8)\n",
      "\n",
      "Cleaned dataset info:\n",
      "<class 'pandas.core.frame.DataFrame'>\n",
      "Index: 339453 entries, 0 to 541908\n",
      "Data columns (total 8 columns):\n",
      " #   Column       Non-Null Count   Dtype         \n",
      "---  ------       --------------   -----         \n",
      " 0   InvoiceNo    339453 non-null  object        \n",
      " 1   StockCode    339453 non-null  object        \n",
      " 2   Description  339453 non-null  object        \n",
      " 3   Quantity     339453 non-null  int64         \n",
      " 4   InvoiceDate  339453 non-null  datetime64[ns]\n",
      " 5   UnitPrice    339453 non-null  float64       \n",
      " 6   CustomerID   339453 non-null  float64       \n",
      " 7   Country      339453 non-null  object        \n",
      "dtypes: datetime64[ns](1), float64(2), int64(1), object(4)\n",
      "memory usage: 23.3+ MB\n",
      "None\n",
      "\n",
      "Summary statistics:\n",
      "            Quantity                    InvoiceDate      UnitPrice  \\\n",
      "count  339453.000000                         339453  339453.000000   \n",
      "mean        7.350022  2011-07-12 07:31:33.842564096       2.203459   \n",
      "min       -13.000000            2010-12-01 08:26:00       0.000000   \n",
      "25%         2.000000            2011-04-08 08:21:00       1.250000   \n",
      "50%         6.000000            2011-08-03 09:09:00       1.650000   \n",
      "75%        12.000000            2011-10-21 14:41:00       2.950000   \n",
      "max        27.000000            2011-12-09 12:50:00       7.500000   \n",
      "std         6.890369                            NaN       1.549676   \n",
      "\n",
      "          CustomerID  \n",
      "count  339453.000000  \n",
      "mean    15312.608184  \n",
      "min     12347.000000  \n",
      "25%     13983.000000  \n",
      "50%     15218.000000  \n",
      "75%     16813.000000  \n",
      "max     18287.000000  \n",
      "std      1711.910209  \n"
     ]
    }
   ],
   "source": [
    "# Display basic information about the cleaned dataset\n",
    "print(\"Original dataset shape:\", data.shape)\n",
    "print(\"Cleaned dataset shape:\", data_cleaned.shape)\n",
    "print(\"\\nCleaned dataset info:\")\n",
    "print(data_cleaned.info())\n",
    "print(\"\\nSummary statistics:\")\n",
    "print(data_cleaned.describe())"
   ]
  },
  {
   "cell_type": "code",
   "execution_count": 25,
   "metadata": {},
   "outputs": [
    {
     "name": "stdout",
     "output_type": "stream",
     "text": [
      "Cleaned data has been saved to: ./cleaned_retail_data.csv\n"
     ]
    }
   ],
   "source": [
    "# Save the cleaned data to a CSV file\n",
    "output_file_path = './cleaned_retail_data.csv'\n",
    "data_cleaned.to_csv(output_file_path, index=False)\n",
    "print(f\"Cleaned data has been saved to: {output_file_path}\")"
   ]
  }
 ],
 "metadata": {
  "kernelspec": {
   "display_name": "base",
   "language": "python",
   "name": "python3"
  },
  "language_info": {
   "codemirror_mode": {
    "name": "ipython",
    "version": 3
   },
   "file_extension": ".py",
   "mimetype": "text/x-python",
   "name": "python",
   "nbconvert_exporter": "python",
   "pygments_lexer": "ipython3",
   "version": "3.12.4"
  }
 },
 "nbformat": 4,
 "nbformat_minor": 2
}
