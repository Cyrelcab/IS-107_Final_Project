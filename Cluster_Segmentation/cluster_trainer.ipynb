{
 "cells": [
  {
   "cell_type": "markdown",
   "metadata": {},
   "source": [
    "Import Libraries"
   ]
  },
  {
   "cell_type": "code",
   "execution_count": 7,
   "metadata": {},
   "outputs": [],
   "source": [
    "import pandas as pd\n",
    "import numpy as np\n",
    "from sklearn.cluster import KMeans\n",
    "import matplotlib.pyplot as plt\n",
    "from sklearn.preprocessing import StandardScaler\n",
    "import joblib\n",
    "from sklearn.metrics import silhouette_score, davies_bouldin_score, calinski_harabasz_score\n",
    "from sqlalchemy import create_engine\n",
    "from dotenv import load_dotenv\n",
    "import os"
   ]
  },
  {
   "cell_type": "markdown",
   "metadata": {},
   "source": [
    "Load .env and Setup database connection"
   ]
  },
  {
   "cell_type": "code",
   "execution_count": 9,
   "metadata": {},
   "outputs": [],
   "source": [
    "#Load environment variables\n",
    "load_dotenv()\n",
    "\n",
    "# Get credentials from environment variables\n",
    "db_host = os.getenv('DB_HOST')\n",
    "db_port = os.getenv('DB_PORT')\n",
    "db_name = os.getenv('DB_NAME')\n",
    "db_user = os.getenv('DB_USER')\n",
    "db_password = os.getenv('DB_PASS')\n",
    "\n",
    "# Create a database connection\n",
    "engine = create_engine(f'postgresql://{db_user}:{db_password}@{db_host}:{db_port}/{db_name}')\n",
    "\n",
    "#SQL Query\n",
    "query = \"\"\"\n",
    "SELECT\n",
    "    c.\"CustomerID\",\n",
    "    SUM(s.\"total_amount\") AS total_sales,\n",
    "    COUNT(s.\"InvoiceNo\") AS order_frequency\n",
    "FROM\n",
    "    Dim_Customer c\n",
    "JOIN\n",
    "    Fact_Sales s ON c.\"CustomerID\" = s.\"CustomerID\"\n",
    "GROUP BY\n",
    "    c.\"CustomerID\"\n",
    "\"\"\"\n"
   ]
  },
  {
   "cell_type": "markdown",
   "metadata": {},
   "source": [
    "Execute the query and check if the database is successfully connected."
   ]
  },
  {
   "cell_type": "code",
   "execution_count": 10,
   "metadata": {},
   "outputs": [
    {
     "name": "stdout",
     "output_type": "stream",
     "text": [
      "   CustomerID  total_sales  order_frequency\n",
      "0       16592       3958.0              232\n",
      "1       13527       2117.0              223\n",
      "2       14173        260.0               25\n",
      "3       12502       1684.0              100\n",
      "4       14067        291.0               50\n"
     ]
    }
   ],
   "source": [
    "#execute the query into the database\n",
    "try:\n",
    "    df = pd.read_sql(query, engine)\n",
    "    # print the first few rows of the data\n",
    "    print(df.head())\n",
    "except Exception as e:\n",
    "    print(f\"An error occurred: {e}\")\n",
    "    print(f\"Database connection: {engine}\")  #to check the connection\n",
    "    df = pd.DataFrame()  # Create an empty DataFrame in case of error"
   ]
  },
  {
   "cell_type": "markdown",
   "metadata": {},
   "source": [
    "Preprocess the data (Normalize features)"
   ]
  },
  {
   "cell_type": "code",
   "execution_count": 11,
   "metadata": {},
   "outputs": [],
   "source": [
    "#Preprocess the data: Normalize the features\n",
    "scaler = StandardScaler()\n",
    "df_scaled = scaler.fit_transform(df[['total_sales', 'order_frequency']])"
   ]
  },
  {
   "cell_type": "markdown",
   "metadata": {},
   "source": [
    "Apply K-Means Clustering\n",
    "    - an unsupervised learning algorithm used for data clustering, which groups unlabeled data points into groups or clusters."
   ]
  },
  {
   "cell_type": "code",
   "execution_count": 13,
   "metadata": {},
   "outputs": [
    {
     "name": "stdout",
     "output_type": "stream",
     "text": [
      "Cluster Centers (total_sales, order_frequency):\n",
      "[[-0.1657238  -0.14563587]\n",
      " [18.76872844 24.51628135]\n",
      " [ 1.89351076  1.55808357]]\n"
     ]
    }
   ],
   "source": [
    "#Apply K-Means clustering\n",
    "k_means = KMeans(n_clusters=3, random_state=42)\n",
    "df['Cluster'] = k_means.fit_predict(df_scaled)\n",
    "\n",
    "#Check the cluster centers to understand their meaning\n",
    "cluster_center = k_means.cluster_centers_\n",
    "print(\"Cluster Centers (total_sales, order_frequency):\")\n",
    "print(cluster_center)"
   ]
  },
  {
   "cell_type": "markdown",
   "metadata": {},
   "source": [
    "Assign meaningful labels to clusters"
   ]
  },
  {
   "cell_type": "code",
   "execution_count": 14,
   "metadata": {},
   "outputs": [
    {
     "data": {
      "text/html": [
       "<div>\n",
       "<style scoped>\n",
       "    .dataframe tbody tr th:only-of-type {\n",
       "        vertical-align: middle;\n",
       "    }\n",
       "\n",
       "    .dataframe tbody tr th {\n",
       "        vertical-align: top;\n",
       "    }\n",
       "\n",
       "    .dataframe thead th {\n",
       "        text-align: right;\n",
       "    }\n",
       "</style>\n",
       "<table border=\"1\" class=\"dataframe\">\n",
       "  <thead>\n",
       "    <tr style=\"text-align: right;\">\n",
       "      <th></th>\n",
       "      <th>CustomerID</th>\n",
       "      <th>total_sales</th>\n",
       "      <th>order_frequency</th>\n",
       "      <th>Cluster</th>\n",
       "      <th>Cluster Label</th>\n",
       "    </tr>\n",
       "  </thead>\n",
       "  <tbody>\n",
       "    <tr>\n",
       "      <th>0</th>\n",
       "      <td>16592</td>\n",
       "      <td>3958.0</td>\n",
       "      <td>232</td>\n",
       "      <td>2</td>\n",
       "      <td>Moderate-Value Customers</td>\n",
       "    </tr>\n",
       "    <tr>\n",
       "      <th>1</th>\n",
       "      <td>13527</td>\n",
       "      <td>2117.0</td>\n",
       "      <td>223</td>\n",
       "      <td>0</td>\n",
       "      <td>Low-Value Customers</td>\n",
       "    </tr>\n",
       "    <tr>\n",
       "      <th>2</th>\n",
       "      <td>14173</td>\n",
       "      <td>260.0</td>\n",
       "      <td>25</td>\n",
       "      <td>0</td>\n",
       "      <td>Low-Value Customers</td>\n",
       "    </tr>\n",
       "    <tr>\n",
       "      <th>3</th>\n",
       "      <td>12502</td>\n",
       "      <td>1684.0</td>\n",
       "      <td>100</td>\n",
       "      <td>0</td>\n",
       "      <td>Low-Value Customers</td>\n",
       "    </tr>\n",
       "    <tr>\n",
       "      <th>4</th>\n",
       "      <td>14067</td>\n",
       "      <td>291.0</td>\n",
       "      <td>50</td>\n",
       "      <td>0</td>\n",
       "      <td>Low-Value Customers</td>\n",
       "    </tr>\n",
       "  </tbody>\n",
       "</table>\n",
       "</div>"
      ],
      "text/plain": [
       "   CustomerID  total_sales  order_frequency  Cluster             Cluster Label\n",
       "0       16592       3958.0              232        2  Moderate-Value Customers\n",
       "1       13527       2117.0              223        0       Low-Value Customers\n",
       "2       14173        260.0               25        0       Low-Value Customers\n",
       "3       12502       1684.0              100        0       Low-Value Customers\n",
       "4       14067        291.0               50        0       Low-Value Customers"
      ]
     },
     "execution_count": 14,
     "metadata": {},
     "output_type": "execute_result"
    }
   ],
   "source": [
    "# Assign meaning to the clusters based on the cluster centers\n",
    "# Here, we assume:\n",
    "# Cluster 0: High-Value Customers (higher total_sales and order_frequency)\n",
    "# Cluster 1: Low-Value Customers (lower total_sales and order_frequency)\n",
    "# Cluster 2: Moderate-Value Customers (moderate total_sales and order_frequency)\n",
    "\n",
    "# Check the cluster centers and assign meaningful labels\n",
    "if cluster_center[0][0] > cluster_center[1][0]:  # You can adjust the logic as needed\n",
    "    cluster_labels = {\n",
    "        0: 'High-Value Customers',\n",
    "        1: 'Low-Value Customers',\n",
    "        2: 'Moderate-Value Customers'\n",
    "    }\n",
    "else:\n",
    "    cluster_labels = {\n",
    "        0: 'Low-Value Customers',\n",
    "        1: 'High-Value Customers',\n",
    "        2: 'Moderate-Value Customers'\n",
    "    }\n",
    "\n",
    "# Add the cluster label to the customer data for better interpretation\n",
    "df['Cluster Label'] = df['Cluster'].map(cluster_labels)\n",
    "\n",
    "# Display the updated dataframe with cluster labels\n",
    "df.head()"
   ]
  },
  {
   "cell_type": "markdown",
   "metadata": {},
   "source": [
    "Visualize the result from clustering"
   ]
  },
  {
   "cell_type": "code",
   "execution_count": 15,
   "metadata": {},
   "outputs": [
    {
     "data": {
      "image/png": "[encoded data removed]",
      "text/plain": [
       "<Figure size 640x480 with 1 Axes>"
      ]
     },
     "metadata": {},
     "output_type": "display_data"
    }
   ],
   "source": [
    "# Visualize the clustering result with color labels\n",
    "scatter = plt.scatter(df['total_sales'], df['order_frequency'], \n",
    "                      c=df['Cluster'], cmap='viridis')\n",
    "\n",
    "# Create a custom legend to show which color corresponds to which cluster\n",
    "handles, _ = scatter.legend_elements()\n",
    "legend_labels = [cluster_labels[i] for i in range(3)]\n",
    "plt.legend(handles, legend_labels, title=\"Customer Segments\")\n",
    "\n",
    "# Label the axes and title\n",
    "plt.xlabel('Total Sales')\n",
    "plt.ylabel('Order Frequency')\n",
    "plt.title('Customer Segmentation by K-Means Clustering')\n",
    "plt.show()"
   ]
  },
  {
   "cell_type": "markdown",
   "metadata": {},
   "source": [
    "Save the models and scaler"
   ]
  },
  {
   "cell_type": "code",
   "execution_count": 16,
   "metadata": {},
   "outputs": [
    {
     "data": {
      "text/plain": [
       "['scaler.pkl']"
      ]
     },
     "execution_count": 16,
     "metadata": {},
     "output_type": "execute_result"
    }
   ],
   "source": [
    "# Save the K-Means model and scaler\n",
    "joblib.dump(k_means, 'customer_segmentation_model.pkl')\n",
    "joblib.dump(scaler, 'scaler.pkl')"
   ]
  },
  {
   "cell_type": "markdown",
   "metadata": {},
   "source": [
    "Evaluate clustering performance using three metrics:\n",
    "> Sillhouette Score - measures how well-separated the clusters are, with higher-values indicating better clustering.\n",
    "> Davies-Bouldin Index - assesses the average similarity between clusters, where lower values indicate better separation.\n",
    "> Calinsk-Harabasz Index - evaluates the ratio of between-cluster to within-cluster dispersion, with higher values indicating well-defined clusters."
   ]
  },
  {
   "cell_type": "code",
   "execution_count": 17,
   "metadata": {},
   "outputs": [
    {
     "name": "stdout",
     "output_type": "stream",
     "text": [
      "Evaluating clustering performance...\n",
      "\n",
      "Silhouette Score: 0.7871\n",
      "Davies-Bouldin Index: 0.5986\n",
      "Calinski-Harabasz Index: 4693.8777\n"
     ]
    }
   ],
   "source": [
    "print(\"Evaluating clustering performance...\")\n",
    "\n",
    "silhouette_avg = silhouette_score(df_scaled, df['Cluster'])\n",
    "print(f'\\nSilhouette Score: {silhouette_avg:.4f}')\n",
    "\n",
    "# Calculate Davies-Bouldin Index\n",
    "davies_bouldin = davies_bouldin_score(df_scaled, df['Cluster'])\n",
    "print(f'Davies-Bouldin Index: {davies_bouldin:.4f}')\n",
    "\n",
    "# Calculate Calinski-Harabasz Index\n",
    "calinski_harabasz = calinski_harabasz_score(df_scaled, df['Cluster'])\n",
    "print(f'Calinski-Harabasz Index: {calinski_harabasz:.4f}')"
   ]
  }
 ],
 "metadata": {
  "kernelspec": {
   "display_name": "Python 3",
   "language": "python",
   "name": "python3"
  },
  "language_info": {
   "codemirror_mode": {
    "name": "ipython",
    "version": 3
   },
   "file_extension": ".py",
   "mimetype": "text/x-python",
   "name": "python",
   "nbconvert_exporter": "python",
   "pygments_lexer": "ipython3",
   "version": "3.12.4"
  }
 },
 "nbformat": 4,
 "nbformat_minor": 2
}
